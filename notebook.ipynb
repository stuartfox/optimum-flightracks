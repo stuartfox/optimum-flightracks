{
 "cells": [
  {
   "cell_type": "code",
   "execution_count": 5,
   "metadata": {},
   "outputs": [
    {
     "output_type": "display_data",
     "data": {
      "text/plain": "interactive(children=(FloatSlider(value=10.0, continuous_update=False, description='distance_straight', max=50…",
      "application/vnd.jupyter.widget-view+json": {
       "version_major": 2,
       "version_minor": 0,
       "model_id": "8f57035774044ae7a85b92a8a644e1f9"
      }
     },
     "metadata": {}
    }
   ],
   "source": [
    "import satellite_val_flightrack\n",
    "from ipywidgets import interactive, FloatSlider, fixed, IntSlider\n",
    "iplt = interactive(satellite_val_flightrack.sampled_area_fraction, \n",
    "                   distance_straight=FloatSlider(value=10.0, min=0.0,max=50.0, step=0.5, continuous_update=False),\n",
    "                   angle_of_turn=FloatSlider(value=225.0, min=0.0, max=360.0, step=5.0, continuous_update=False),\n",
    "                   x0 = FloatSlider(value=0.0, min=-20, max=20, step=0.5, continuous_update=False),\n",
    "                   y0 = FloatSlider(value=0.0, min=-20, max=20, step=0.5, continuous_update=False),\n",
    "                   sensor_footprint_radius = FloatSlider(value=0.5, min=0.1, max=10.0, step=0.1, continuous_update=False),\n",
    "                   radius_of_turn=fixed(6.0),\n",
    "                   true_airspeed=fixed(140.0),\n",
    "                   satellite_footprint_radius=fixed(7.5),\n",
    "                   plot_figure=fixed(True))\n",
    "output = iplt.children[-1]\n",
    "output.layout_height = \"350px\"\n",
    "iplt"
   ]
  },
  {
   "cell_type": "code",
   "execution_count": 2,
   "metadata": {
    "tags": []
   },
   "outputs": [
    {
     "output_type": "display_data",
     "data": {
      "text/plain": "interactive(children=(IntSlider(value=1, description='num_leg', max=10, min=1), FloatSlider(value=6.0, descrip…",
      "application/vnd.jupyter.widget-view+json": {
       "version_major": 2,
       "version_minor": 0,
       "model_id": "68713bc43fe24632bd95efc4bc9ecb4a"
      }
     },
     "metadata": {}
    }
   ],
   "source": [
    "iplt = interactive(satellite_val_flightrack.optimum_distance_angle,\n",
    "                   num_leg = IntSlider(min=1, max=10))\n",
    "output = iplt.children[-1]\n",
    "output.layout_height = \"350px\"\n",
    "iplt"
   ]
  },
  {
   "cell_type": "code",
   "execution_count": null,
   "metadata": {},
   "outputs": [],
   "source": []
  }
 ],
 "metadata": {
  "language_info": {
   "codemirror_mode": {
    "name": "ipython",
    "version": 3
   },
   "file_extension": ".py",
   "mimetype": "text/x-python",
   "name": "python",
   "nbconvert_exporter": "python",
   "pygments_lexer": "ipython3",
   "version": "3.6.10-final"
  },
  "orig_nbformat": 2,
  "kernelspec": {
   "name": "python361064bite3b1ea1e6af644029e45f15ac4abbeae",
   "display_name": "Python 3.6.10 64-bit"
  }
 },
 "nbformat": 4,
 "nbformat_minor": 2
}