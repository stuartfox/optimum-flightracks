{
 "cells": [
  {
   "cell_type": "code",
   "execution_count": 1,
   "metadata": {},
   "outputs": [],
   "source": [
    "import satellite_val_flightrack\n",
    "from ipywidgets import interactive_output, FloatSlider, fixed, IntSlider, HBox, VBox\n"
   ]
  },
  {
   "cell_type": "code",
   "execution_count": 5,
   "metadata": {
    "tags": []
   },
   "outputs": [
    {
     "output_type": "display_data",
     "data": {
      "text/plain": "VBox(children=(HBox(children=(IntSlider(value=3, continuous_update=False, description='Number of legs', max=10…",
      "application/vnd.jupyter.widget-view+json": {
       "version_major": 2,
       "version_minor": 0,
       "model_id": "860277ee4e95408a8fcacbc7af0e8b9a"
      }
     },
     "metadata": {}
    },
    {
     "output_type": "display_data",
     "data": {
      "text/plain": "Output()",
      "application/vnd.jupyter.widget-view+json": {
       "version_major": 2,
       "version_minor": 0,
       "model_id": "35e11731c254458bab0a8527c9010feb"
      }
     },
     "metadata": {}
    }
   ],
   "source": [
    "style = {\"description_width\":\"initial\"}\n",
    "num_leg = IntSlider(min=1, max=10, value=3, continuous_update=False, description=\"Number of legs\",style=style)\n",
    "radius_of_turn = FloatSlider(min=1.0, max=15.0, step=0.5, value=6.0, continuous_update=False, description=\"Turn radius (km)\",style=style)\n",
    "satellite_footprint_radius = FloatSlider(min=1.0, max=15, step=0.5, value=7.5, continuous_update=False, description=\"Sat. footprint r (km)\",style=style)\n",
    "sensor_footprint_radius = FloatSlider(min=0.1, max=5, step=0.1, value=0.5, continuous_update=False,description=\"Sens. footprint r (km)\",style=style)\n",
    "true_airspeed = FloatSlider(min=100, max=200, step=10, value=140, continuous_update=False, description=\"TAS (m/s)\",style=style)\n",
    "max_time = IntSlider(min=5, max=60, step=5, value=20, continuous_update=False, description=\"Maximum time (min)\",style=style)\n",
    "h1 = HBox([num_leg, radius_of_turn])\n",
    "h2 = HBox([true_airspeed, max_time])\n",
    "v = VBox([h1,satellite_footprint_radius, sensor_footprint_radius, h2])\n",
    "iplt = interactive_output(satellite_val_flightrack.optimum_distance_angle,\n",
    "                          {\"num_leg\":num_leg,\n",
    "                           \"radius_of_turn\":radius_of_turn,\n",
    "                           \"satellite_footprint_radius\":satellite_footprint_radius,\n",
    "                           \"sensor_footprint_radius\":sensor_footprint_radius,\n",
    "                           \"true_airspeed\":true_airspeed,\n",
    "                           \"max_time\":max_time})\n",
    "display(v, iplt)"
   ]
  }
 ],
 "metadata": {
  "language_info": {
   "codemirror_mode": {
    "name": "ipython",
    "version": 3
   },
   "file_extension": ".py",
   "mimetype": "text/x-python",
   "name": "python",
   "nbconvert_exporter": "python",
   "pygments_lexer": "ipython3",
   "version": "3.6.10-final"
  },
  "orig_nbformat": 2,
  "kernelspec": {
   "name": "python361064bite3b1ea1e6af644029e45f15ac4abbeae",
   "display_name": "Python 3.6.10 64-bit"
  }
 },
 "nbformat": 4,
 "nbformat_minor": 2
}